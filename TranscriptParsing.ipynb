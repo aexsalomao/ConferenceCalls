
        {
            "cells": [
          {
           "cell_type": "markdown",
           "metadata": {},
           
           "source": ["// can\u0027t yet format YamlFrontmatter ([\"title: Parsing Motley Fool\"; \"category: Scripts\"; \"categoryindex: 2\"; \"index: 1\"], Some { StartLine = 2 StartColumn = 0 EndLine = 6 EndColumn = 8 }) to pynb markdown\n",
"\n",
"[![Script](img/badge-script.svg)](/ConferenceCalls//TranscriptParsing.fsx)\u0026emsp;\n",
"[![Notebook](img/badge-notebook.svg)](/ConferenceCalls//TranscriptParsing.ipynb)\n",
"\n",
"\n",
"# Transcript Parsing\n",
"\n",
"The objective of this `TranscriptParsing.fsx` script is to give a few examples\n",
"on how to parse html documents with F#. More specifically, we will be attempting\n",
"to parse earnings call transcripts from [Motley Fool](https://www.fool.com).\n",
"\n",
"Before getting started, lets download the [FSharp.Data](https://fsprojects.github.io/FSharp.Data/)\n",
"nuget package using .NET\u0027s package manager [NuGet](https://www.nuget.org/packages/FSharp.Data/):\n",
"\n"]
          }
,
          {
           "cell_type": "code",
           "metadata": {},
            "execution_count": 1, "outputs": [], 
           "source": ["#r \"nuget: FSharp.Data\"\n",
"\n",
"open System\n",
"open FSharp.Data\n"]
          }
,
          {
           "cell_type": "markdown",
           "metadata": {},
           
           "source": ["## Transcript - Url\n",
"\n",
"We can download or parse individual html documents with their url.\n",
"Since each call transcript will have a different url, we need\n",
"to find an effective and consistent way to fetch individual urls \n",
"from motley fool\u0027s website. Fortunately, if we take a look at \u003ca href=\"https://www.fool.com/earnings-call-transcripts/?page=1\" target=\"_blank\"\u003emotley fool\u0027s front page\u003c/a\u003e, we see that all call transcripts are tagged with hyperlinks. \n",
"\n",
"\u003cimg src=\"FsdocsImages\\motley_fool_front_page.png\" width=\"70%\" \u003e\n",
"\u003cimg src=\"FsdocsImages\\motley_fool_front_page.png\" width=\"70%\" \u003e\n",
"\n",
"Since the transcripts are tagged with a specific hypertext reference \n",
"(href) (`\"/earnings/call-transcripts\"`), we can use the `CssSelect` \n",
"method from FSharp Data to find all elements in a given front page \n",
"that match the transcript href that we are looking for. After fetching \n",
"the urls, we can download any transcript we want as an html document \n",
"using the `HtmlDocument.Load` method, also from FSharp Data.\n",
"\n"]
          }
,
          {
           "cell_type": "code",
           "metadata": {},
            "execution_count": 2, "outputs": [], 
           "source": ["type FrontPageDocument = HtmlDocument\n",
"\n",
"/// Match html node with \"href\" attribute and create transcript url\n",
"let makeFoolUrl (attrib:HtmlAttribute) = \n",
"    match attrib.Name(), attrib.Value() with\n",
"    | \"href\", stub -\u003e $\"https://www.fool.com{stub}\"\n",
"    | _, _ -\u003e failwithf $\"Expected href attribute but got {attrib}\"\n",
"\n",
"/// Search for transcript urls\n",
"let findTranscriptUrls (pageDoc: FrontPageDocument): string [] =  \n",
"    pageDoc.CssSelect(\"a[href^=\u0027/earnings/call-transcripts\u0027]\")\n",
"    |\u003e Seq.choose (HtmlNode.tryGetAttribute \"href\")\n",
"    |\u003e Seq.map makeFoolUrl\n",
"    |\u003e Seq.toArray\n",
"    \n"]
          }
,
          {
           "cell_type": "markdown",
           "metadata": {},
           
           "source": ["Lets take a look at the first three call transcript urls `CssSelect` was able to match:\n",
"\n"]
          }
,
          {
           "cell_type": "code",
           "metadata": {},
            "execution_count": 3, "outputs": [
          {
           "data": {
            "text/plain": ["val exampleFrontPageDoc : FrontPageDocument =",
"  \u003c!DOCTYPE html\u003e",
"\u003chtml lang=\"en\"\u003e",
"  \u003chead\u003e",
"    \u003cscript\u003e",
"    // usmf-django",
"var segmentKey=\"16mdwrvy5p\",segmentSnippetVersion=\"4.15.2\",getSegmentUrl=function(e){return e=e||window.segmentKey,(\"https:\"===document.location.protocol?\"https://\":\"http://\")+\"evs.pink-boat.fool.com/analytics.js/v1/\"+e+\"/analytics.min.js\"},trackerMaker=function(e){var t=[];t.invoked=!1,t.methods=[\"trackSubmit\",\"trackClick\",\"trackLink\",\"trackForm\",\"pageview\",\"identify\",\"reset\",\"group\",\"track\",\"ready\",\"alias\",\"debug\",\"page\",\"once\",\"...",
"val exampleUrls : string [] =",
"  [|\"https://www.fool.com/earnings/call-transcripts/2022/05/04/sta\"+[48 chars];",
"    \"https://www.fool.com/earnings/call-transcripts/2022/05/04/ced\"+[45 chars];",
"    \"https://www.fool.com/earnings/call-transcripts/2022/05/04/joh\"+[48 chars];",
"    \"https://www.fool.com/earnings/call-transcripts/2022/05/04/voy\"+[48 chars];",
"    \"https://www.fool.com/earnings/call-transcripts/2022/05/04/all\"+[48 chars];",
"    \"https://www.fool.com/earnings/call-transcripts/2022/05/04/bri\"+[47 chars];",
"    \"https://www.fool.com/earnings/call-transcripts/2022/05/04/cri\"+[42 chars];",
"    \"https://www.fool.com/earnings/call-transcripts/2022/05/04/car\"+[47 chars];",
"    \"https://www.fool.com/earnings/call-transcripts/2022/05/04/hor\"+[48 chars];",
"    \"https://www.fool.com/earnings/call-transcripts/2022/05/04/bri\"+[48 chars];",
"    \"https://www.fool.com/earnings/call-transcripts/2022/05/04/fre\"+[47 chars];",
"    \"https://www.fool.com/earnings/call-transcripts/2022/05/04/mfa\"+[48 chars];",
"    \"https://www.fool.com/earnings/call-transcripts/2022/05/04/oat\"+[48 chars];",
"    \"https://www.fool.com/earnings/call-transcripts/2022/05/04/aqu\"+[48 chars];",
"    \"https://www.fool.com/earnings/call-transcripts/2022/05/04/oak\"+[48 chars];",
"    \"https://www.fool.com/earnings/call-transcripts/2022/05/04/enl\"+[48 chars];",
"    \"https://www.fool.com/earnings/call-transcripts/2022/05/04/man\"+[44 chars];",
"    \"https://www.fool.com/earnings/call-transcripts/2022/05/04/ame\"+[47 chars];",
"    \"https://www.fool.com/earnings/call-transcripts/2022/05/04/evo\"+[48 chars];",
"    \"https://www.fool.com/earnings/call-transcripts/2022/05/04/mat\"+[47 chars]|]",
"val it : unit = ()"]
        },
           "execution_count": 3,
           "metadata": {},
           "output_type": "execute_result"
          }], 
           "source": ["let exampleFrontPageDoc: FrontPageDocument = HtmlDocument.Load \"https://www.fool.com/earnings-call-transcripts/?page=1\"\n",
"\n",
"let exampleUrls = findTranscriptUrls exampleFrontPageDoc\n",
"\n",
"/// First three urls\n",
"exampleUrls\n",
"|\u003e Array.take 3\n",
"|\u003e Array.iter (fun xs -\u003e printfn$\"{xs}\")\n"]
          }
,
          {
           "cell_type": "markdown",
           "metadata": {},
           
           "source": ["## Transcript - Ticker \u0026 Exchange\n",
"\n",
"Apart from using the `CssSelect` method to search for transcript urls \n",
"we can also use it to extract other key information like a company\u0027s \n",
"ticker and exchange as well as the time and date of the earnings call.\n",
"\n",
"Lets see if we can fetch Tesla\u0027s ticker and exchange from its \n",
"[2021 Q2 earnings call](https://www.fool.com/earnings/call-transcripts/2021/07/27/tesla-tsla-q2-2021-earnings-call-transcript/): \n",
"\n",
"\u003cimg src=\"FsdocsImages\\tesla_motley_fool.png\" width=\"70%\"\u003e\n",
"\u003cimg src=\"FsdocsImages\\tesla_motley_fool.png\" width=\"70%\"\u003e\n",
"\n"]
          }
,
          {
           "cell_type": "code",
           "metadata": {},
            "execution_count": 4, "outputs": [
          {
           "data": {
            "text/plain": ["type TranscriptDocument = HtmlDocument",
"val teslaDoc : TranscriptDocument =",
"  \u003c!DOCTYPE html\u003e",
"\u003chtml lang=\"en\" prefix=\"og: http://ogp.me/ns# fb: http://ogp.me/ns/fb# article: http://ogp.me/ns/article#\"\u003e",
"  \u003chead\u003e",
"    \u003cscript\u003e",
"    // usmf-django",
"var segmentKey=\"16mdwrvy5p\",segmentSnippetVersion=\"4.15.2\",getSegmentUrl=function(e){return e=e||window.segmentKey,(\"https:\"===document.location.protocol?\"https://\":\"http://\")+\"evs.pink-boat.fool.com/analytics.js/v1/\"+e+\"/analytics.min.js\"},trackerMaker=function(e){var t=[];t.invoked=!1,t.methods=[\"trackSubmit\",\"trackClick\",\"trackLink\",\"track...",
"val it : HtmlNode list = []"]
        },
           "execution_count": 4,
           "metadata": {},
           "output_type": "execute_result"
          }], 
           "source": ["type TranscriptDocument = HtmlDocument\n",
"/// Tesla transcript html document\n",
"let teslaDoc: TranscriptDocument = HtmlDocument.Load \"https://www.fool.com/earnings/call-transcripts/2021/07/27/tesla-tsla-q2-2021-earnings-call-transcript/\"\n",
"\n",
"teslaDoc.CssSelect(\"span[class=\u0027ticker\u0027]\")\n"]
          }
,
          {
           "cell_type": "code",
           "metadata": {},
            "execution_count": 5, "outputs": [
          {
           "data": {
            "text/plain": ["val it : string list = []"]
        },
           "execution_count": 5,
           "metadata": {},
           "output_type": "execute_result"
          }], 
           "source": ["teslaDoc.CssSelect(\"span[class=\u0027ticker\u0027]\")\n",
"|\u003e List.map (fun x -\u003e x.InnerText())\n"]
          }
,
          {
           "cell_type": "code",
           "metadata": {},
            "execution_count": 6, "outputs": [
          {
           "data": {
            "text/plain": ["val it : string option = None"]
        },
           "execution_count": 6,
           "metadata": {},
           "output_type": "execute_result"
          }], 
           "source": ["teslaDoc.CssSelect(\"span[class=\u0027ticker\u0027]\")\n",
"|\u003e List.map (fun x -\u003e \n",
"    x.InnerText()\n",
"     .Trim()\n",
"     .Replace(\"(\",\"\")\n",
"     .Replace(\")\",\"\"))\n",
"|\u003e List.distinct\n",
"|\u003e List.tryExactlyOne     \n"]
          }
,
          {
           "cell_type": "code",
           "metadata": {},
            "execution_count": 7, "outputs": [
          {
           "data": {
            "text/plain": ["val cleanTickerExchangeText : doc:TranscriptDocument -\u003e string option",
"val it : string option = None"]
        },
           "execution_count": 7,
           "metadata": {},
           "output_type": "execute_result"
          }], 
           "source": ["// A function to do the same\n",
"let cleanTickerExchangeText (doc:TranscriptDocument) =\n",
"    doc.CssSelect(\"span[class=\u0027ticker\u0027]\")\n",
"    |\u003e Seq.map (fun x -\u003e \n",
"        x.InnerText()\n",
"         .Trim()\n",
"         .Replace(\"(\",\"\")\n",
"         .Replace(\")\",\"\"))\n",
"    |\u003e Seq.distinct\n",
"    |\u003e Seq.tryExactlyOne\n",
"\n",
"cleanTickerExchangeText teslaDoc\n"]
          }
,
          {
           "cell_type": "markdown",
           "metadata": {},
           
           "source": ["Since we are not certain that we\u0027ll retrieve both a ticker and an exchange \n",
"from *every* single transcript we parse, we can use match expressions and \n",
"option types to make sure to return only those matches that contain both a \n",
"valid ticker and exchange. \n",
"\n"]
          }
,
          {
           "cell_type": "code",
           "metadata": {},
            "execution_count": 8, "outputs": [
          {
           "data": {
            "text/plain": ["\u003cnull\u003e"]
        },
           "execution_count": 8,
           "metadata": {},
           "output_type": "execute_result"
          }], 
           "source": ["/// Match inner text from html node to a ticker and exchange\n",
"let tryTickerExchange (tickerInfo: string): option\u003cstring * string\u003e =\n",
"    match tickerInfo.Split(\":\") with\n",
"    |[|exchange; ticker|] -\u003e Some (ticker, exchange)\n",
"    | _ -\u003e None\n",
"\n",
"/// Search for ticker and exchange\n",
"let findTickerExchange (doc: TranscriptDocument): option\u003cstring * string\u003e = \n",
"    doc\n",
"    |\u003e cleanTickerExchangeText\n",
"    |\u003e Option.bind tryTickerExchange\n",
"\n",
"// Tesla ticker and exchange\n",
"findTickerExchange teslaDoc\n"]
          }
,
          {
           "cell_type": "markdown",
           "metadata": {},
           
           "source": ["## Transcript - Date \u0026 Time\n",
"\n",
"Taking a closer look at Tesla\u0027s earnings transcript page, we can see that right \n",
"below Tesla\u0027s ticker we spot the exact time and date of the earnings call.\n",
"\n",
"Let\u0027s see if we can use `CssSelect` to fetch this information:\n",
"\n",
"### Date\n",
"\n"]
          }
,
          {
           "cell_type": "code",
           "metadata": {},
            "execution_count": 9, "outputs": [
          {
           "data": {
            "text/plain": ["Some \"JUL 26 2021\""]
        },
           "execution_count": 9,
           "metadata": {},
           "output_type": "execute_result"
          }], 
           "source": ["/// Format date string\n",
"let cleanDate (node: HtmlNode): option\u003cstring\u003e = \n",
"    node.InnerText()\n",
"        .ToUpperInvariant()\n",
"        .Replace(\".\", \"\")\n",
"        .Replace(\",\", \"\")\n",
"        .Trim()\n",
"        .Split(\" \")\n",
"    |\u003e fun dateArr -\u003e     \n",
"        match dateArr with\n",
"        |[|month; day; year|] -\u003e Some ($\"{month.[..2]} {day} {year}\") \n",
"        | _ -\u003e None\n",
"\n",
"/// Search for transcript date\n",
"let findDate (doc: TranscriptDocument): option\u003cstring\u003e=\n",
"    doc.CssSelect(\"span[id=\u0027date\u0027]\")\n",
"    |\u003e Seq.tryExactlyOne\n",
"    |\u003e Option.bind cleanDate\n",
"\n",
"/// Date of Tesla\u0027s call:\n",
"findDate teslaDoc\n"]
          }
,
          {
           "cell_type": "markdown",
           "metadata": {},
           
           "source": ["### Time\n",
"\n"]
          }
,
          {
           "cell_type": "code",
           "metadata": {},
            "execution_count": 10, "outputs": [
          {
           "data": {
            "text/plain": ["Some \"5:30 PM\""]
        },
           "execution_count": 10,
           "metadata": {},
           "output_type": "execute_result"
          }], 
           "source": ["/// Format time string\n",
"let cleanTime (node: HtmlNode) =\n",
"    node.InnerText()\n",
"        .ToUpperInvariant()\n",
"        .Replace(\".\", \"\")\n",
"    |\u003e fun txt -\u003e    \n",
"        if (txt.Contains \"ET\")\n",
"        then txt.Replace(\"ET\", \"\").Trim()\n",
"        else failwithf $\"Expected ET timezone but got {txt}\" \n",
"   \n",
"/// Search for transcript time\n",
"let findTime (doc: TranscriptDocument) =\n",
"    doc.CssSelect(\"em[id=\u0027time\u0027]\")\n",
"    |\u003e Seq.tryExactlyOne\n",
"    |\u003e Option.map cleanTime\n",
"\n",
"/// Time of Tesla\u0027s call\n",
"findTime teslaDoc\n"]
          }
,
          {
           "cell_type": "markdown",
           "metadata": {},
           
           "source": ["### DateTime\n",
"\n",
"Now that we have working functions for both the date and time of each call, \n",
"lets combine these functions together and convert the information we have on\n",
"the date and time of an earnings call to a \u003ca href=\"https://docs.microsoft.com/en-us/dotnet/api/system.datetime?view=net-5.0\" target=\"_blank\"\u003eDateTime struct\u003c/a\u003e :\n",
"\n"]
          }
,
          {
           "cell_type": "code",
           "metadata": {},
            "execution_count": 11, "outputs": [
          {
           "data": {
            "text/plain": ["Some 07/26/2021 17:30:00"]
        },
           "execution_count": 11,
           "metadata": {},
           "output_type": "execute_result"
          }], 
           "source": ["/// DateTime converter\n",
"let convertToDateTime (date: string, time: string): DateTime =\n",
"    let dateExpr = $\"{date} {time}\"\n",
"    let dateFormat = \"MMM d yyyy h:mm tt\"\n",
"    DateTime.ParseExact(dateExpr, dateFormat, System.Globalization.CultureInfo.InvariantCulture)\n",
"\n",
"/// Search for and match date and time\n",
"let findDateTime (doc: TranscriptDocument): option\u003cDateTime\u003e =\n",
"    match findDate doc, findTime doc with\n",
"    | Some date, Some time -\u003e \n",
"        let dt = convertToDateTime (date, time)\n",
"        Some dt\n",
"    | _ -\u003e None\n",
"\n",
"/// Tesla call DateTime\n",
"findDateTime teslaDoc\n"]
          }
,
          {
           "cell_type": "markdown",
           "metadata": {},
           
           "source": ["## Transcript - Paragraphs\n",
"\n",
"The transcript itself can also be easily parsed using the `CssSelect()` method.\n",
"In html, blocks of text or paragraphs are defined with the \"\u003cp\u003e\" tag: \n",
"\n"]
          }
,
          {
           "cell_type": "code",
           "metadata": {},
            "execution_count": 12, "outputs": [
          {
           "data": {
            "text/plain": ["Paragraph 0: Operator",
"Paragraph 1: Good day, and thank you for standing by. Welcome t ... ",
"Paragraph 2: Martin Viecha -- Senior Director, Investor Relatio ... ",
"Paragraph 3: Thank you, and good afternoon, everyone, and welco ... ",
"Paragraph 4: During this call, we will discuss our business out ..."]
        },
           "execution_count": 12,
           "metadata": {},
           "output_type": "execute_result"
          }], 
           "source": ["let findParagraphs (doc: TranscriptDocument): string [] = \n",
"    doc.CssSelect(\"p\")\n",
"    |\u003e Seq.map (fun x -\u003e x.InnerText().Trim())\n",
"    // Remove empty paragraphs\n",
"    |\u003e Seq.filter (fun x -\u003e x \u003c\u003e \"\")\n",
"    // Skip first 5 paragraphs\n",
"    |\u003e Seq.skip 5\n",
"    |\u003e Seq.toArray\n",
"\n",
"let firstCharacters (paragraph: string) = \n",
"    if paragraph.Length \u003c= 50 \n",
"    then paragraph \n",
"    else paragraph.[..49] + \" ... \"\n",
"\n",
"// First two paragraphs\n",
"teslaDoc \n",
"|\u003e findParagraphs\n",
"|\u003e Array.take 5\n",
"|\u003e Array.map firstCharacters\n",
"|\u003e Array.iteri (printfn \"Paragraph %i: %s\")\n"]
          }
,
          {
           "cell_type": "markdown",
           "metadata": {},
           
           "source": ["## Transcript - Fiscal Quarter\n",
"\n",
"Although we have already found a way to fetch the exact time and date \n",
"of each earnings call, we could also fetch from the title of each \n",
"transcript the quarter of which each call refers to.\n",
"\n",
"Example titles:\n",
"\n",
"- Microsoft (MSFT) *Q4* 2021 Earnings Call Transcript\n",
"- Tesla (TSLA) *Q2* 2021 Earnings Call Transcript\n",
"- IBM (IBM) *Q2* 2021 Earnings Call Transcript\n",
"\n",
"We can already see a pattern emerging from the titles:\n",
"\n",
"- CompanyName (CompanyTicker) *Q[1,2,3,4]* 0000 Earnings Call Transcript \n",
"\n",
"Having idendified this pattern, we can create a [Regular Expression](https://docs.microsoft.com/en-us/dotnet/standard/base-types/regular-expression-language-quick-reference)\n",
"Regex) pattern to help us extract the fiscal quarter from each title.\n",
"\n"]
          }
,
          {
           "cell_type": "code",
           "metadata": {},
            "execution_count": 13, "outputs": [
          {
           "data": {
            "text/plain": [""]
        },
           "execution_count": 13,
           "metadata": {},
           "output_type": "execute_result"
          }], 
           "source": ["open System.Text.RegularExpressions\n",
"\n",
"/// Regular Expression\n",
"let quarterRegex = Regex(\"Q\\d{1}\")\n",
"\n",
"/// Extract number from \"Q\\d{1}\"\n",
"let getQNumb (q: string): option\u003cint\u003e = \n",
"    Seq.toArray q\n",
"    |\u003e fun xs -\u003e\n",
"        match xs with\n",
"        | [|q; qNumb|] -\u003e Some (qNumb |\u003e Char.GetNumericValue |\u003e int)\n",
"        | _ -\u003e None\n",
"\n",
"let findFiscalQuarter (doc: TranscriptDocument): option\u003cint\u003e = \n",
"    doc.CssSelect(\"title\")\n",
"    |\u003e Seq.map (fun xs -\u003e \n",
"        xs.InnerText() \n",
"        |\u003e quarterRegex.Match \n",
"        |\u003e fun xs -\u003e xs.Value)\n",
"    // Check if there is exactly one match\n",
"    |\u003e Seq.tryExactlyOne\n",
"    // Convert string to int\n",
"    |\u003e Option.bind getQNumb\n",
"\n",
"findFiscalQuarter teslaDoc\n"]
          }
,
          {
           "cell_type": "markdown",
           "metadata": {},
           
           "source": ["## EarnignsCall Record\n",
"\n",
"So far we have worked with individual functions that take in one single argument, \n",
"an html transcript document. Since they all work with the `TranscriptDocument` \n",
"type, we can easily combine these functions together to form one single function \n",
"that returns all the individual bits of data that we want.\n",
"\n",
"We\u0027ll use a record called `EarningsCall` to hold all our information.\n",
"\n"]
          }
,
          {
           "cell_type": "code",
           "metadata": {},
            "execution_count": 14, "outputs": [
          {
           "data": {
            "text/plain": [""]
        },
           "execution_count": 14,
           "metadata": {},
           "output_type": "execute_result"
          }], 
           "source": ["type CallId =\n",
"    { Ticker: string \n",
"      Exchange: string\n",
"      Date: System.DateTime\n",
"      FiscalQuarter : int }\n",
"\n",
"type EarningsCall = \n",
"    { CallId : CallId\n",
"      Transcript: string [] }\n",
"\n",
"/// Search for ticker, exchange, date and paragraphs\n",
"let parseTrancriptDoc (doc: TranscriptDocument): option\u003cEarningsCall\u003e =\n",
"    let matchExpr =  \n",
"        findTickerExchange doc, \n",
"        findDateTime doc,\n",
"        findFiscalQuarter doc\n",
"     \n",
"    match matchExpr with\n",
"    | Some (ticker, exchange), \n",
"      Some date,\n",
"      Some fiscalQuarter -\u003e \n",
"        let callId = \n",
"            { Ticker = ticker \n",
"              Exchange = exchange\n",
"              Date = date \n",
"              FiscalQuarter = fiscalQuarter }\n",
"        \n",
"        Some { CallId = callId\n",
"               Transcript = findParagraphs doc }\n",
"    | _ -\u003e None\n",
"\n",
"/// Tesla transcript record\n",
"let teslaTranscript = parseTrancriptDoc teslaDoc\n",
"\n",
"teslaTranscript \n",
"|\u003e Option.iter(fun xs -\u003e \n",
"    printfn $\"Id:\\n{xs.CallId}\\n\"\n",
"    printfn $\"First 5 paragraphs:\"\n",
"    xs.Transcript\n",
"    |\u003e Array.truncate 5\n",
"    |\u003e Array.map firstCharacters \n",
"    |\u003e Array.iter (printfn \"%A\"))\n"]
          }
,
          {
           "cell_type": "markdown",
           "metadata": {},
           
           "source": ["Now that we have a working function that takes in a `TranscriptDocument` and\n",
"returns a `EarningsCall` type, lets try to parse all of the transcript urls from \n",
"`exampleFrontPageDoc`.\n",
"\n"]
          }
,
          {
           "cell_type": "code",
           "metadata": {},
            "execution_count": 15, "outputs": [
          {
           "data": {
            "text/plain": ["N: 0"]
        },
           "execution_count": 15,
           "metadata": {},
           "output_type": "execute_result"
          }], 
           "source": ["/// Parsing transcripts from front page\n",
"let exampleTranscripts = \n",
"    exampleFrontPageDoc\n",
"    |\u003e findTranscriptUrls \n",
"    |\u003e Array.choose (fun tUrl -\u003e \n",
"        let doc = HtmlDocument.Load tUrl\n",
"        parseTrancriptDoc doc)\n",
"\n",
"/// Total number of transcripts\n",
"printfn $\"N: {exampleTranscripts.Length}\"\n"]
          }
,
          {
           "cell_type": "code",
           "metadata": {},
            "execution_count": 16, "outputs": [
          {
           "data": {
            "text/plain": [""]
        },
           "execution_count": 16,
           "metadata": {},
           "output_type": "execute_result"
          }], 
           "source": ["/// First 5 transcripts\n",
"exampleTranscripts\n",
"|\u003e Array.take 5\n",
"|\u003e Array.iter (fun xs -\u003e \n",
"    let tId = xs.CallId\n",
"    printfn $\"TranscriptId: %4s{tId.Ticker}, %6s{tId.Exchange}, {tId.Date}\")\n"]
          }
,
          {
           "cell_type": "markdown",
           "metadata": {},
           
           "source": ["## Data visualization with Plotly.NET\n",
"\n",
".NET has several useful libraries, including one dedicated for generating charts.\n",
"With [Plotly.NET](https://plotly.net/) you can create all sorts of charts from \n",
"simple histograms all the way to 3D surface plots. Just like with FSharp Data, \n",
"we can download Plotly.Net with .NET\u0027s package manager, Nuget.\n",
"\n"]
          }
,
          {
           "cell_type": "code",
           "metadata": {},
            "execution_count": 17, "outputs": [], 
           "source": ["#r \"nuget: Plotly.NET, 2.0.0-preview.6\"\n",
"open Plotly.NET\n",
"\n",
"/// Histogram\n",
"let transcriptTimesHistogram = \n",
"\n",
"    let callTimes = \n",
"        exampleTranscripts\n",
"        |\u003e Array.map (fun xs -\u003e xs.CallId.Date.TimeOfDay.ToString())\n",
"        |\u003e Array.sort\n",
"    \n",
"    callTimes\n",
"    |\u003e Chart.Histogram\n",
"    |\u003e Chart.withTitle \"Earnings calls by time of day (ET)\"\n",
"    |\u003e Chart.withY_AxisStyle \"Count\"\n",
"    |\u003e Chart.withSize (750., 500.)\n"]
          }
,
          {
           "cell_type": "code",
           "metadata": {},
            "execution_count": null, "outputs": [
          {
           "data": {
            "text/html": ["\u003cdiv id=\"c84debe8-8381-4dc9-ad0a-3bce9c7b1735\" style=\"width: 750px; height: 500px;\"\u003e\u003c!-- Plotly chart will be drawn inside this DIV --\u003e\u003c/div\u003e",
"\u003cscript type=\"text/javascript\"\u003e",
"",
"            var renderPlotly_c84debe883814dc9ad0a3bce9c7b1735 = function() {",
"            var fsharpPlotlyRequire = requirejs.config({context:\u0027fsharp-plotly\u0027,paths:{plotly:\u0027https://cdn.plot.ly/plotly-latest.min\u0027}}) || require;",
"            fsharpPlotlyRequire([\u0027plotly\u0027], function(Plotly) {",
"",
"            var data = [{\"type\":\"histogram\",\"x\":[],\"marker\":{}}];",
"            var layout = {\"title\":\"Earnings calls by time of day (ET)\",\"yaxis\":{\"title\":\"Count\"},\"width\":750.0,\"height\":500.0};",
"            var config = {};",
"            Plotly.newPlot(\u0027c84debe8-8381-4dc9-ad0a-3bce9c7b1735\u0027, data, layout, config);",
"});",
"            };",
"            if ((typeof(requirejs) !==  typeof(Function)) || (typeof(requirejs.config) !== typeof(Function))) {",
"                var script = document.createElement(\"script\");",
"                script.setAttribute(\"src\", \"https://cdnjs.cloudflare.com/ajax/libs/require.js/2.3.6/require.min.js\");",
"                script.onload = function(){",
"                    renderPlotly_c84debe883814dc9ad0a3bce9c7b1735();",
"                };",
"                document.getElementsByTagName(\"head\")[0].appendChild(script);",
"            }",
"            else {",
"                renderPlotly_c84debe883814dc9ad0a3bce9c7b1735();",
"            }",
"\u003c/script\u003e",
""]
        },
           "execution_count": null,
           "metadata": {},
           "output_type": "execute_result"
          }], 
           "source": ["transcriptTimesHistogram |\u003e Chart.Show \n"]
          }
,
          {
           "cell_type": "markdown",
           "metadata": {},
           
           "source": ["Although we are working with a small sample, we can already notice that \n",
"the time of the earnings calls are varied and that calls occur before \n",
"market hours, during market hours and even after market hours.\n",
"\n",
"## Async methods\n",
"\n"]
          }
,
          {
           "cell_type": "code",
           "metadata": {},
            "execution_count": 19, "outputs": [], 
           "source": ["let asyncTranscript (url: string) = \n",
"    let rec loop attempt url =\n",
"        async {\n",
"            try \n",
"                let! transcriptDoc = HtmlDocument.AsyncLoad url\n",
"                let transcriptRec = parseTrancriptDoc transcriptDoc\n",
"                return transcriptRec\n",
"            with e -\u003e\n",
"                if attempt \u003e 0 then\n",
"                    do! Async.Sleep 2000 // Wait 2 seconds in case we\u0027re throttled.\n",
"                    return! loop (attempt - 1) url\n",
"                else return! failwithf \"Failed to request \u0027%s\u0027. Error: %O\" url e }\n",
"    loop 5 url\n",
"\n",
"let asyncPage (n: int) =\n",
"    let rec loop attempt n =\n",
"        async {\n",
"            printfn $\"{n}\"\n",
"            let frontPageP = $\"https://www.fool.com/earnings-call-transcripts/?page={n}\"\n",
"            try \n",
"                let! pageDoc = HtmlDocument.AsyncLoad frontPageP \n",
"                return findTranscriptUrls pageDoc\n",
"            with e -\u003e\n",
"                if attempt \u003e 0 then\n",
"                    do! Async.Sleep 2000 // Wait 2 seconds in case we\u0027re throttled.\n",
"                    return! loop (attempt - 1) n\n",
"                else return! failwithf \"Failed to request \u0027%s\u0027. Error: %O\" frontPageP e }\n",
"    loop 5 n \n",
"    \n"]
          }
,
          {
           "cell_type": "markdown",
           "metadata": {},
           
           "source": ["### Parse Transcript Pages\n",
"\n"]
          }
,
          {
           "cell_type": "code",
           "metadata": {},
            "execution_count": 20, "outputs": [], 
           "source": ["module Async =\n",
"    let ParallelThrottled xs = Async.Parallel(xs, 5)\n",
"\n",
"let asyncPages (pages: int list) = \n",
"    let urls = \n",
"        pages \n",
"        |\u003e Seq.map asyncPage\n",
"        |\u003e Async.ParallelThrottled \n",
"        |\u003e Async.RunSynchronously\n",
"        |\u003e Array.collect id\n",
"    let transcripts =\n",
"        urls\n",
"        |\u003e Array.map asyncTranscript\n",
"        |\u003e Async.ParallelThrottled\n",
"        |\u003e Async.RunSynchronously\n",
"        |\u003e Array.choose id\n",
"    transcripts\n"]
          }
,
          {
           "cell_type": "code",
           "metadata": {},
            "execution_count": null, "outputs": [], 
           "source": ["// Done\n",
"let examplePages = asyncPages [1 .. 5]\n"]
          }
,
          {
           "cell_type": "markdown",
           "metadata": {},
           
           "source": ["## Export to json\n",
"\n"]
          }
,
          {
           "cell_type": "code",
           "metadata": {},
            "execution_count": 21, "outputs": [], 
           "source": ["#r \"nuget: Newtonsoft.Json\"\n",
"open Newtonsoft.Json\n",
"\n",
"Environment.CurrentDirectory \u003c- __SOURCE_DIRECTORY__\n",
"\n",
"let transcriptsToJson (fileName: string) (calls: EarningsCall []) = \n",
"    JsonConvert.SerializeObject(calls)\n",
"    |\u003e fun json -\u003e IO.File.WriteAllText(fileName, json)\n"]
          }
,
          {
           "cell_type": "code",
           "metadata": {},
            "execution_count": null, "outputs": [], 
           "source": ["transcriptsToJson \"data-cache/examplePages.json\" examplePages\n"]
          }],
            "metadata": {
            "kernelspec": {"display_name": ".NET (F#)", "language": "F#", "name": ".net-fsharp"},
            "langauge_info": {
        "file_extension": ".fs",
        "mimetype": "text/x-fsharp",
        "name": "C#",
        "pygments_lexer": "fsharp",
        "version": "4.5"
        }
        },
            "nbformat": 4,
            "nbformat_minor": 1
        }
        

