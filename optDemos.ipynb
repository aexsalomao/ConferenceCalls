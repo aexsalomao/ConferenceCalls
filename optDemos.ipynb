
        {
            "cells": [
          {
           "cell_type": "code",
           "metadata": {},
            "execution_count": 1, "outputs": [], 
           "source": ["#r \"nuget: DiffSharp-lite, 1.0.0-preview-987646120\"\n",
"\n",
"open DiffSharp\n",
"open DiffSharp.Optim\n",
"\n",
"let f (x: Tensor) = \n",
"\n",
"    let x, y = x.[0], x.[1]\n",
"\n",
"    (3. * x ** (3.0)) + 2.0 * y ** 2.0\n",
"\n",
"let lr, momentum, iters, threshold = 1e-3, 0.5, 1000, 1e-3\n",
"\n",
"let guess = dsharp.tensor([1.; 0.01])\n",
"\n",
"let fx, x = optim.sgd(f, guess, lr=dsharp.tensor(lr), momentum=dsharp.tensor(momentum), nesterov=true, iters=iters, threshold=threshold)\n",
"\n",
"\n",
"#r \"nuget: Flips, 2.4.5\"\n",
"open Flips\n"]
          }],
            "metadata": {
            "kernelspec": {"display_name": ".NET (F#)", "language": "F#", "name": ".net-fsharp"},
            "langauge_info": {
        "file_extension": ".fs",
        "mimetype": "text/x-fsharp",
        "name": "C#",
        "pygments_lexer": "fsharp",
        "version": "4.5"
        }
        },
            "nbformat": 4,
            "nbformat_minor": 1
        }
        

