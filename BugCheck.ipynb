
        {
            "cells": [
          {
           "cell_type": "markdown",
           "metadata": {},
           
           "source": ["# Bug test\n",
"This is a literate comment\n",
"*)\n",
"\n",
"(*\n",
"This is a normal comment\n",
"\n",
"This is a literate comment\n",
"\n"]
          }
,
          {
           "cell_type": "code",
           "metadata": {},
            "execution_count": 1, "outputs": [], 
           "source": ["// This is a normal comment\n"]
          }
,
          {
           "cell_type": "markdown",
           "metadata": {},
           
           "source": ["This is a literate comment\n",
"*)\n",
"\n",
"(*\n",
"This is a normal comment\n",
"\n",
"This is a literate comment\n",
"\n"]
          }
,
          {
           "cell_type": "code",
           "metadata": {},
            "execution_count": 2, "outputs": [], 
           "source": ["printfn \"this is some code.\"\n",
"\n",
"(*\n",
"This is a normal comment\n",
"*)\n"]
          }],
            "metadata": {
            "kernelspec": {"display_name": ".NET (F#)", "language": "F#", "name": ".net-fsharp"},
            "langauge_info": {
        "file_extension": ".fs",
        "mimetype": "text/x-fsharp",
        "name": "C#",
        "pygments_lexer": "fsharp",
        "version": "4.5"
        }
        },
            "nbformat": 4,
            "nbformat_minor": 1
        }
        

